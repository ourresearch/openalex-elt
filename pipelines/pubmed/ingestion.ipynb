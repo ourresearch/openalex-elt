{
 "cells": [
  {
   "metadata": {},
   "cell_type": "code",
   "outputs": [],
   "execution_count": null,
   "source": "%pip install xmltodict",
   "id": "2afe31f151e3ccb3"
  },
  {
   "cell_type": "markdown",
   "id": "4e32370f973dd76e",
   "metadata": {},
   "source": [
    "# Pubmed Data Ingestion\n",
    "\n",
    "This notebook handles the ingestion of raw data from the Pubmed FTP server csv file(s)"
   ]
  },
  {
   "cell_type": "code",
   "execution_count": 1,
   "id": "initial_id",
   "metadata": {
    "ExecuteTime": {
     "end_time": "2024-09-26T02:44:17.036598Z",
     "start_time": "2024-09-26T02:44:17.004573Z"
    }
   },
   "outputs": [],
   "source": [
    "import dlt\n",
    "import xmltodict\n",
    "import json\n",
    "import gzip\n",
    "import tempfile\n",
    "from ftplib import FTP\n",
    "import logging\n",
    "from pyspark.sql.functions import current_timestamp\n",
    "from pyspark.sql.types import StructType, StructField, StringType\n",
    "\n",
    "# Setup Python logger\n",
    "logging.basicConfig(level=logging.INFO)\n",
    "logger = logging.getLogger(__name__)\n"
   ]
  },
  {
   "cell_type": "code",
   "execution_count": 2,
   "id": "212795db799f79c4",
   "metadata": {
    "ExecuteTime": {
     "end_time": "2024-09-26T02:44:23.467837Z",
     "start_time": "2024-09-26T02:44:23.464985Z"
    }
   },
   "outputs": [],
   "source": [
    "# FTP file functions\n",
    "def pubmed_ftp_client():\n",
    "    ftp = FTP('ftp.ncbi.nlm.nih.gov')\n",
    "    ftp.login()\n",
    "    ftp.cwd('/pubmed/updatefiles/')\n",
    "    return ftp\n",
    "\n",
    "def retrieve_file(ftp_client, filename):\n",
    "    local_filename = tempfile.mkstemp()[1]\n",
    "\n",
    "    with open(local_filename, 'wb') as f:\n",
    "        ftp_client.retrbinary(f'RETR {filename}', f.write)\n",
    "\n",
    "    logger.info(f'Retrieved {filename} as {local_filename}')\n",
    "    return local_filename"
   ]
  },
  {
   "cell_type": "code",
   "execution_count": 3,
   "id": "3906552a46f0e74d",
   "metadata": {
    "ExecuteTime": {
     "end_time": "2024-09-26T02:44:29.379428Z",
     "start_time": "2024-09-26T02:44:29.377088Z"
    }
   },
   "outputs": [],
   "source": [
    "def get_xml_content(xml_gz_filename):\n",
    "    with gzip.open(xml_gz_filename, \"rb\") as xml_file:\n",
    "        return xml_file.read()\n",
    "    \n",
    "def xml_to_json(xml_content):\n",
    "    xml_dict = xmltodict.parse(xml_content)\n",
    "    return json.dumps(xml_dict)\n"
   ]
  },
  {
   "cell_type": "markdown",
   "id": "7939fffaa6e226bb",
   "metadata": {},
   "source": "# Define table for raw Pubmed data (converted to JSON)"
  },
  {
   "cell_type": "code",
   "execution_count": null,
   "id": "b2e594014d7d9ded",
   "metadata": {},
   "outputs": [],
   "source": [
    "@dlt.table(\n",
    "    comment=\"PubMed data converted to JSON\",\n",
    "    table_properties={\"quality\": \"bronze\"}\n",
    ")\n",
    "def pubmed_ingestion():\n",
    "    def get_pubmed_json():\n",
    "        ftp = pubmed_ftp_client()\n",
    "        remote_filenames = sorted([f for f in ftp.nlst() if f.endswith('.xml.gz')])\n",
    "        ftp.quit()\n",
    "        \n",
    "        for fname in remote_filenames[:10]:\n",
    "            ftp = pubmed_ftp_client()# Limiting to 10 files for testing\n",
    "            local_fname = retrieve_file(ftp, fname)\n",
    "            ftp.quit()\n",
    "            xml_content = get_xml_content(local_fname)\n",
    "            json_content = xml_to_json(xml_content)\n",
    "            for item in json_content:\n",
    "                yield fname, item\n",
    "\n",
    "    schema = StructType([\n",
    "        StructField(\"pubmed_fname\", StringType(), True),\n",
    "        StructField(\"json_content\", StringType(), True)\n",
    "    ])\n",
    "\n",
    "    df = spark.createDataFrame(get_pubmed_json(), schema=schema)\n",
    "\n",
    "    df_with_timestamp = df.withColumn(\"ingestion_timestamp\", current_timestamp())\n",
    "\n",
    "    logger.info(f\"PubMed data ingestion complete. Total files processed: {df_with_timestamp.count()}\")\n",
    "    return df_with_timestamp\n",
    "    \n",
    "    \n",
    "    \n",
    "    \n",
    "\n"
   ]
  }
 ],
 "metadata": {
  "kernelspec": {
   "display_name": "Python 3 (ipykernel)",
   "language": "python",
   "name": "python3"
  },
  "language_info": {
   "codemirror_mode": {
    "name": "ipython",
    "version": 3
   },
   "file_extension": ".py",
   "mimetype": "text/x-python",
   "name": "python",
   "nbconvert_exporter": "python",
   "pygments_lexer": "ipython3",
   "version": "3.10.8"
  }
 },
 "nbformat": 4,
 "nbformat_minor": 5
}
