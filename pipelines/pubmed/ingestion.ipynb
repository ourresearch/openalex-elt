{
 "cells": [
  {
   "cell_type": "code",
   "execution_count": 0,
   "metadata": {
    "application/vnd.databricks.v1+cell": {
     "cellMetadata": {},
     "inputWidgets": {},
     "nuid": "31210c3b-77cf-4fee-9026-059e27fa783f",
     "showTitle": false,
     "title": ""
    }
   },
   "outputs": [],
   "source": [
    "%pip install xmltodict # this is usually done in the compute instance settings under \"Library\""
   ]
  },
  {
   "cell_type": "markdown",
   "metadata": {
    "application/vnd.databricks.v1+cell": {
     "cellMetadata": {},
     "inputWidgets": {},
     "nuid": "fe6ea951-0cb9-4b97-9db8-7b468e24f969",
     "showTitle": false,
     "title": ""
    }
   },
   "source": [
    "# Pubmed Data Ingestion\n",
    "\n",
    "This notebook handles the ingestion of raw data from the Pubmed FTP server csv file(s)"
   ]
  },
  {
   "cell_type": "code",
   "execution_count": 0,
   "metadata": {
    "ExecuteTime": {
     "end_time": "2024-09-26T04:09:01.726221Z",
     "start_time": "2024-09-26T04:09:01.718228Z"
    },
    "application/vnd.databricks.v1+cell": {
     "cellMetadata": {},
     "inputWidgets": {},
     "nuid": "428765b5-1ee1-4122-86a4-9b4e60b16b32",
     "showTitle": false,
     "title": ""
    }
   },
   "outputs": [],
   "source": [
    "import dlt\n",
    "import xmltodict\n",
    "import json\n",
    "import gzip\n",
    "import tempfile\n",
    "from ftplib import FTP\n",
    "import logging\n",
    "from pyspark.sql.types import StructType, StructField, StringType,ArrayType\n",
    "import pyspark.sql.functions as F\n",
    "from pyspark.sql.functions import udf\n",
    "\n",
    "# Setup Python logger\n",
    "logging.basicConfig(level=logging.INFO)\n",
    "logger = logging.getLogger(__name__)\n"
   ]
  },
  {
   "cell_type": "code",
   "execution_count": 0,
   "metadata": {
    "ExecuteTime": {
     "end_time": "2024-09-26T04:09:04.281019Z",
     "start_time": "2024-09-26T04:09:04.277870Z"
    },
    "application/vnd.databricks.v1+cell": {
     "cellMetadata": {},
     "inputWidgets": {},
     "nuid": "08e98451-3d4f-478f-a21a-46c5e6e09edf",
     "showTitle": false,
     "title": ""
    }
   },
   "outputs": [],
   "source": [
    "# FTP file functions\n",
    "def pubmed_ftp_client():\n",
    "    ftp = FTP('ftp.ncbi.nlm.nih.gov')\n",
    "    ftp.login()\n",
    "    ftp.cwd('/pubmed/updatefiles/')\n",
    "    return ftp\n",
    "\n",
    "def retrieve_file(ftp_client, filename):\n",
    "    local_filename = tempfile.mkstemp()[1]\n",
    "\n",
    "    with open(local_filename, 'wb') as f:\n",
    "        ftp_client.retrbinary(f'RETR {filename}', f.write)\n",
    "\n",
    "    logger.info(f'Retrieved {filename} as {local_filename}')\n",
    "    return local_filename"
   ]
  },
  {
   "cell_type": "code",
   "execution_count": 0,
   "metadata": {
    "ExecuteTime": {
     "end_time": "2024-09-26T04:09:05.905527Z",
     "start_time": "2024-09-26T04:09:05.901908Z"
    },
    "application/vnd.databricks.v1+cell": {
     "cellMetadata": {},
     "inputWidgets": {},
     "nuid": "01ca288c-6bf3-484e-abd2-3b1392eab674",
     "showTitle": false,
     "title": ""
    }
   },
   "outputs": [],
   "source": [
    "def get_xml_content(xml_gz_filename):\n",
    "    with gzip.open(xml_gz_filename, \"rb\") as xml_file:\n",
    "        return xml_file.read()\n"
   ]
  },
  {
   "cell_type": "markdown",
   "metadata": {
    "application/vnd.databricks.v1+cell": {
     "cellMetadata": {},
     "inputWidgets": {},
     "nuid": "fd239f9c-d0e8-464c-9254-de62c8d01ee8",
     "showTitle": false,
     "title": ""
    }
   },
   "source": [
    "# Define table for raw Pubmed data (converted to JSON)"
   ]
  },
  {
   "cell_type": "code",
   "execution_count": 0,
   "metadata": {
    "application/vnd.databricks.v1+cell": {
     "cellMetadata": {},
     "inputWidgets": {},
     "nuid": "51eb343d-96ba-4a98-bae2-5cb29cff14e9",
     "showTitle": false,
     "title": ""
    }
   },
   "outputs": [],
   "source": [
    "## Justin suggestions\n",
    "@dlt.table(\n",
    "    comment=\"PubMed data converted to JSON\",\n",
    "    table_properties={\"quality\": \"bronze\"}\n",
    ")\n",
    "def pubmed_ingestion():\n",
    "    ftp = pubmed_ftp_client()\n",
    "    remote_filenames = sorted([f for f in ftp.nlst() if f.endswith('.xml.gz')])[:10]\n",
    "    ftp.quit()\n",
    "\n",
    "    # create dataframe using these filenames\n",
    "    remote_files = spark.createDataFrame([(filename,) for filename in remote_filenames], [\"pubmed_fname\"]).repartition(8)\n",
    "\n",
    "    @udf(ArrayType(StringType()))\n",
    "    def get_pubmed_json(fname):\n",
    "        ftp = pubmed_ftp_client()\n",
    "        local_fname = retrieve_file(ftp, fname)\n",
    "        ftp.quit()\n",
    "        xml_content = get_xml_content(local_fname)\n",
    "        xml_dict = xmltodict.parse(xml_content)\n",
    "\n",
    "        # I am unsure about this part but if you put all of these items into a list, you can then explode the DF (so I am putting something here, just unsure if it will actually work)\n",
    "        return [json.dumps(item) for item in xml_dict['PubmedArticleSet']['PubmedArticle']]\n",
    "\n",
    "    pubmed_df = remote_files.withColumn(\"json_content\", get_pubmed_json(F.col(\"pubmed_fname\"))) \\\n",
    "        .select('pubmed_fname', F.explode('json_content').alias('json_content_row')) \\\n",
    "        .repartition(8) \\\n",
    "        .withColumn(\"ingestion_timestamp\", F.current_timestamp())\n",
    "\n",
    "    pubmed_processed_files = pubmed_df.cache().count()\n",
    "\n",
    "    logger.info(f\"PubMed data ingestion complete. Total files processed: {pubmed_processed_files}\")\n",
    "    return pubmed_df"
   ]
  }
 ],
 "metadata": {
  "application/vnd.databricks.v1+notebook": {
   "dashboards": [],
   "environmentMetadata": null,
   "language": "python",
   "notebookMetadata": {
    "pythonIndentUnit": 4
   },
   "notebookName": "ingestion",
   "widgets": {}
  },
  "kernelspec": {
   "display_name": "Python 3 (ipykernel)",
   "language": "python",
   "name": "python3"
  },
  "language_info": {
   "codemirror_mode": {
    "name": "ipython",
    "version": 3
   },
   "file_extension": ".py",
   "mimetype": "text/x-python",
   "name": "python",
   "nbconvert_exporter": "python",
   "pygments_lexer": "ipython3",
   "version": "3.10.8"
  }
 },
 "nbformat": 4,
 "nbformat_minor": 0
}
