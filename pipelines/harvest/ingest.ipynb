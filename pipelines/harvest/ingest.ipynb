{
 "cells": [
  {
   "cell_type": "code",
   "execution_count": null,
   "id": "initial_id",
   "metadata": {
    "collapsed": true
   },
   "outputs": [],
   "source": "%pip install git+https://github.com/ourresearch/openalex-taxicab.git"
  },
  {
   "metadata": {},
   "cell_type": "code",
   "outputs": [],
   "execution_count": null,
   "source": [
    "import boto3\n",
    "import dlt\n",
    "from dataclasses import asdict, is_dataclass\n",
    "from inspect import getmembers\n",
    "from openalex_taxicab.harvest import HarvestResult\n",
    "\n",
    "from openalex_taxicab.legacy.harvest import PublisherLandingPageHarvester\n",
    "\n",
    "from common.utils import explode_dict_column"
   ],
   "id": "356a332e56cf8182"
  },
  {
   "metadata": {},
   "cell_type": "code",
   "outputs": [],
   "execution_count": null,
   "source": "plp_harvester = PublisherLandingPageHarvester(boto3.client('s3'))",
   "id": "b2d66c51326f2ec7"
  },
  {
   "metadata": {},
   "cell_type": "code",
   "outputs": [],
   "execution_count": null,
   "source": [
    "def dict_factory_with_properties(obj):\n",
    "    if is_dataclass(obj):\n",
    "        result = {}\n",
    "        for key, value in obj.__dict__.items():\n",
    "            result[key] = dict_factory_with_properties(value)\n",
    "        for name, value in getmembers(obj.__class__, lambda o: isinstance(o, property)):\n",
    "            result[name] = dict_factory_with_properties(value.__get__(obj))\n",
    "        return result\n",
    "    elif isinstance(obj, (list, tuple)):\n",
    "        return type(obj)(dict_factory_with_properties(v) for v in obj)\n",
    "    elif isinstance(obj, dict):\n",
    "        return {k: dict_factory_with_properties(v) for k, v in obj.items()}\n",
    "    else:\n",
    "        return obj\n",
    "\n",
    "def harvest(doi):\n",
    "    result: HarvestResult = plp_harvester.harvest(doi)\n",
    "    d = asdict(result, dict_factory=dict_factory_with_properties)\n",
    "    d.pop('content', None)\n",
    "    return d"
   ],
   "id": "3a609eafcfb5fc94"
  },
  {
   "metadata": {},
   "cell_type": "code",
   "outputs": [],
   "execution_count": null,
   "source": [
    "@dlt.table(\n",
    "    name=\"harvested_content\",\n",
    "    comment=\"Metadata about harvested URLs (S3 path, response code, etc)\",\n",
    "    table_properties={'quality': 'bronze'}\n",
    ")\n",
    "def harvested_content():\n",
    "    crossref_df = dlt.read_stream(\"crossref_works\")\n",
    "    dois_df = crossref_df.select('DOI')\n",
    "    harvest_result_df = dois_df.withColumn('harvest_result', harvest(dois_df['DOI']))\n",
    "    exploded_df = explode_dict_column(harvest_result_df, 'harvest_result')\n",
    "    return exploded_df\n"
   ],
   "id": "1f2dc7d7119d7096"
  }
 ],
 "metadata": {
  "kernelspec": {
   "display_name": "Python 3",
   "language": "python",
   "name": "python3"
  },
  "language_info": {
   "codemirror_mode": {
    "name": "ipython",
    "version": 2
   },
   "file_extension": ".py",
   "mimetype": "text/x-python",
   "name": "python",
   "nbconvert_exporter": "python",
   "pygments_lexer": "ipython2",
   "version": "2.7.6"
  }
 },
 "nbformat": 4,
 "nbformat_minor": 5
}
