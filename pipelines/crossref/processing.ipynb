{
 "cells": [
  {
   "cell_type": "markdown",
   "metadata": {},
   "source": [
    "# Crossref Data Processing\n",
    "\n",
    "This notebook handles the processing of raw Crossref data into a structured format."
   ]
  },
  {
   "cell_type": "code",
   "execution_count": null,
   "metadata": {},
   "outputs": [],
   "source": [
    "import dlt\n",
    "import logging\n",
    "from pyspark.sql.functions import from_json, col\n",
    "from pyspark.sql.types import StructType, StructField, StringType, TimestampType, ArrayType\n",
    "\n",
    "# Setup Python logger\n",
    "logging.basicConfig(level=logging.INFO)\n",
    "logger = logging.getLogger(__name__)"
   ]
  },
  {
   "cell_type": "markdown",
   "metadata": {},
   "source": [
    "## Define Schema for Parsed Data"
   ]
  },
  {
   "cell_type": "code",
   "execution_count": null,
   "metadata": {},
   "outputs": [],
   "source": [
    "parsed_schema = StructType([\n",
    "    StructField(\"DOI\", StringType(), True),\n",
    "    StructField(\"title\", ArrayType(StringType()), True),\n",
    "    StructField(\"author\", ArrayType(StructType([\n",
    "        StructField(\"family\", StringType(), True),\n",
    "        StructField(\"given\", StringType(), True)\n",
    "    ])), True),\n",
    "    StructField(\"published\", StructType([\n",
    "        StructField(\"date-time\", TimestampType(), True)\n",
    "    ]), True)\n",
    "])"
   ]
  },
  {
   "cell_type": "markdown",
   "metadata": {},
   "source": [
    "## Define DLT Table for Processed Crossref Data"
   ]
  },
  {
   "cell_type": "code",
   "execution_count": null,
   "metadata": {},
   "outputs": [],
   "source": [
    "@dlt.table(\n",
    "    comment=\"Processed Crossref works data.\",\n",
    "    table_properties={\"quality\": \"gold\"}\n",
    ")\n",
    "def crossref_processed_data():\n",
    "    df = dlt.read(\"crossref_raw_data\")\n",
    "    \n",
    "    processed_df = df.select(\n",
    "        from_json(\"raw_data\", parsed_schema).alias(\"parsed_data\"),\n",
    "        \"ingestion_timestamp\"\n",
    "    ).select(\n",
    "        col(\"parsed_data.DOI\").alias(\"DOI\"),\n",
    "        col(\"parsed_data.title\")[0].alias(\"title\"),\n",
    "        col(\"parsed_data.author\").alias(\"author\"),\n",
    "        col(\"parsed_data.published.date-time\").alias(\"published_date\"),\n",
    "        \"ingestion_timestamp\"\n",
    "    )\n",
    "    \n",
    "    final_count = processed_df.count()\n",
    "    logger.info(f\"Data processing complete. Final row count: {final_count}\")\n",
    "\n",
    "    return processed_df"
   ]
  }
 ],
 "metadata": {
  "language_info": {
   "name": "python"
  }
 },
 "nbformat": 4,
 "nbformat_minor": 2
}
